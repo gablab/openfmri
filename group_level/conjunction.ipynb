{
 "cells": [
  {
   "cell_type": "code",
   "execution_count": null,
   "metadata": {
    "collapsed": true
   },
   "outputs": [],
   "source": [
    "%reset -f\n",
    "import numpy as np\n",
    "import scipy\n",
    "from scipy import stats\n",
    "from glob import glob\n",
    "import nibabel as nib\n",
    "import os\n",
    "#  Perform a conjunction analysis\n",
    "\n",
    "## Reference\n",
    "# Satrajit Ghosh\n",
    "# 2005_Nichols_ValidConjunctionInferenceMinimumStatistic.pdf\n",
    "# http://stattrek.com/regression/slope-test.aspx?Tutorial=AP\n",
    "# http://nilearn.github.io/manipulating_images/manipulating_images.html\n",
    "\n",
    "\n",
    "## About\n",
    "#  Greg Ciccarelli\n",
    "#  October 6, 2016\n",
    "\n"
   ]
  },
  {
   "cell_type": "code",
   "execution_count": null,
   "metadata": {
    "collapsed": false
   },
   "outputs": [],
   "source": [
    "def get_t_min(t1,t2):\n",
    "    # t1 and t2 are t_maps for the two contrasts\n",
    "    # Informally, in words:  \n",
    "    # If activations have opposite sign, return 0\n",
    "    # If activations have the same sign, t_min is the t value closest to zero (keeping the sign)\n",
    "\n",
    "\n",
    "    # First term:  assume both positive, otherwise 0\n",
    "    # Second term:  assume both negative, otherwise 0\n",
    "    t_min = np.maximum(np.minimum(t1,t2), 0) + np.minimum(np.maximum(t1,t2), 0)\n",
    "\n",
    "    return t_min"
   ]
  },
  {
   "cell_type": "code",
   "execution_count": null,
   "metadata": {
    "collapsed": true
   },
   "outputs": [],
   "source": [
    "# For a single subject, use the t-map for contrast 1 and contrast 2 to make a t_min map\n",
    "# Perform significance testing on this map, using multiple hypothesis corrections"
   ]
  },
  {
   "cell_type": "markdown",
   "metadata": {},
   "source": [
    "# Test data\n",
    "c1 = np.array([[1,2,3.1], [4, -2, 5]])\n",
    "c2 = np.array([[3,-1, 10], [3.8, -8, 0]])\n",
    "\n",
    "c1 = np.random.randn(2,2,3)\n",
    "c2 = np.random.randn(2,2,3)\n",
    "print c1\n",
    "print c2"
   ]
  },
  {
   "cell_type": "markdown",
   "metadata": {},
   "source": [
    "file_path_sub_list1 = glob(\n",
    "    os.path.join('/om/project/voice/processedData/l1analysis/l1output_2016100414/model126/task005', \n",
    "                 'sub-voice8*/tstats/tstat01.nii.gz'))\n",
    "file_path_sub_list2 = glob(\n",
    "    os.path.join('/om/project/voice/processedData/l1analysis/l1output_2016100414/model126/task005', \n",
    "                 'sub-voice8*/tstats/tstat02.nii.gz'))"
   ]
  },
  {
   "cell_type": "code",
   "execution_count": null,
   "metadata": {
    "collapsed": false
   },
   "outputs": [],
   "source": [
    "file_path_sub_list1 = glob(\n",
    "    os.path.join('/om/project/voice/processedData/l1analysis/l1output_2016100414/model126/task005', \n",
    "                 'sub-voice8*/zstats/mni/zstat01.nii.gz'))\n",
    "file_path_sub_list2 = glob(\n",
    "    os.path.join('/om/project/voice/processedData/l1analysis/l1output_2016100414/model126/task005', \n",
    "                 'sub-voice8*/zstats/mni/zstat02.nii.gz'))"
   ]
  },
  {
   "cell_type": "code",
   "execution_count": null,
   "metadata": {
    "collapsed": false
   },
   "outputs": [],
   "source": [
    "\n",
    "\n",
    "\n",
    "# CRUCIAL:  sort to allow pairwise matching\n",
    "file_path_sub_list1 = sorted(file_path_sub_list1)\n",
    "file_path_sub_list2 = sorted(file_path_sub_list2)\n"
   ]
  },
  {
   "cell_type": "code",
   "execution_count": null,
   "metadata": {
    "collapsed": false
   },
   "outputs": [],
   "source": [
    "print file_path_sub_list1"
   ]
  },
  {
   "cell_type": "code",
   "execution_count": null,
   "metadata": {
    "collapsed": true
   },
   "outputs": [],
   "source": []
  },
  {
   "cell_type": "markdown",
   "metadata": {},
   "source": [
    "/om/project/voice/processedData/l1analysis/l1output_2016100414/model126/task005/sub-voice852/tstats/tstat01.nii.gz\n",
    "/om/project/voice/processedData/l1analysis/l1output_2016100414/model126/task005/sub-voice852/tstats/tstat02.nii.gz"
   ]
  },
  {
   "cell_type": "code",
   "execution_count": null,
   "metadata": {
    "collapsed": true
   },
   "outputs": [],
   "source": [
    "# Assume that both contrasts exist for each subject\n"
   ]
  },
  {
   "cell_type": "code",
   "execution_count": null,
   "metadata": {
    "collapsed": false
   },
   "outputs": [],
   "source": [
    "img = nib.load(file_path_sub_list1[0])\n",
    "# get data as numpy array\n",
    "t1 = img.get_data()\n",
    "\n",
    "t_min_all = np.empty((np.shape(t1)[0],np.shape(t1)[1],np.shape(t1)[2],0))\n",
    "\n",
    "print np.shape(t_min_all)"
   ]
  },
  {
   "cell_type": "code",
   "execution_count": null,
   "metadata": {
    "collapsed": false
   },
   "outputs": [],
   "source": [
    "for f1, f2 in zip(file_path_sub_list1, file_path_sub_list2)[:3]:\n",
    "    img = nib.load(f1)\n",
    "    # get data as numpy array\n",
    "    t1 = img.get_data()\n",
    "    \n",
    "    img = nib.load(f2)\n",
    "    # get data as numpy array\n",
    "    t2 = img.get_data()    \n",
    "    \n",
    "    t_min = get_t_min(t1,t2)\n",
    "    t_min_all = np.concatenate((t_min_all, t_min[:, :, :, np.newaxis]), axis = 3)"
   ]
  },
  {
   "cell_type": "code",
   "execution_count": null,
   "metadata": {
    "collapsed": false
   },
   "outputs": [],
   "source": [
    "print np.shape(t_min)\n",
    "print np.shape(t_min_all)"
   ]
  },
  {
   "cell_type": "code",
   "execution_count": null,
   "metadata": {
    "collapsed": true
   },
   "outputs": [],
   "source": []
  },
  {
   "cell_type": "code",
   "execution_count": null,
   "metadata": {
    "collapsed": true
   },
   "outputs": [],
   "source": [
    "# The nichol's paper is organized around maps that already have been thresholded\n",
    "# into binary form to either declare an effect present for a voxel (H=1) or not (H=0)\n",
    "\n",
    "#  At the group level, a t-test isn't valid because the inputs to the\n",
    "#  test are 0 or 1 from each subject, not a continuous value \n",
    "#  The null hypothesis then should be derived from a binomial distribution\n",
    "#  Unfortunately, an arbitrary value must be chosen to be used for the \n",
    "#  probability of a 1 when no effect is present.  Otherwise, zero probability is \n",
    "#  assigned to presence of one or more \"1\"s returned from the subjects.\n",
    "#  Actually the probability of a false positive for a subject should be the error rate e.g. 0.05!\n"
   ]
  },
  {
   "cell_type": "code",
   "execution_count": null,
   "metadata": {
    "collapsed": false
   },
   "outputs": [],
   "source": [
    "# Can't perform a t-test conjunction on one subject\n",
    "#scipy.stats.ttest_1samp(np.array([[1]]), 0, axis=0)"
   ]
  },
  {
   "cell_type": "code",
   "execution_count": null,
   "metadata": {
    "collapsed": true
   },
   "outputs": [],
   "source": [
    "# t_min_all = np.random.randn(2,2,3,10)\n",
    "# Convert t values to p values"
   ]
  },
  {
   "cell_type": "code",
   "execution_count": null,
   "metadata": {
    "collapsed": false
   },
   "outputs": [],
   "source": [
    "\n",
    "t1samp, p1samp = scipy.stats.ttest_1samp(t_min_all, 0, axis=3)\n",
    "\n",
    "print t1samp\n",
    "print p1samp[np.logical_not(np.isnan(p1samp))]"
   ]
  },
  {
   "cell_type": "code",
   "execution_count": null,
   "metadata": {
    "collapsed": true
   },
   "outputs": [],
   "source": []
  },
  {
   "cell_type": "code",
   "execution_count": null,
   "metadata": {
    "collapsed": true
   },
   "outputs": [],
   "source": []
  },
  {
   "cell_type": "code",
   "execution_count": null,
   "metadata": {
    "collapsed": false
   },
   "outputs": [],
   "source": [
    "# Using Nichols family wise error correction (Sidak procedure)\n",
    "# https://en.wikipedia.org/wiki/Family-wise_error_rate#The_.C5.A0id.C3.A1k_procedure\n",
    "\n",
    "#  Too conservative as hypotheses can only be tested when the tmap is not NaN\n",
    "V = np.size(t_min)\n",
    "print V\n",
    "V = np.sum(np.logical_not(np.isnan(t1samp)))\n",
    "print V\n",
    "#  This is a p value\n",
    "alpha0 = 0.05\n",
    "alpha_c_fwe = 1 - (1 - alpha0)**(1./V)\n",
    "\n",
    "print alpha_c_fwe\n",
    "# Family wise error correction to p value"
   ]
  },
  {
   "cell_type": "code",
   "execution_count": null,
   "metadata": {
    "collapsed": true
   },
   "outputs": [],
   "source": [
    "# To analyze multiple subjects, for each subject contrast 1 and contrast 2, create a t_min map\n",
    "# Then, perform a 1 sample t-test (for every voxel independently) across all the t_min maps from all the subjects\n",
    "# Null hypothesis in all cases is that the value is 0"
   ]
  },
  {
   "cell_type": "code",
   "execution_count": null,
   "metadata": {
    "collapsed": false
   },
   "outputs": [],
   "source": [
    "# http://docs.scipy.org/doc/scipy/reference/generated/scipy.stats.t.html\n",
    "\n",
    "df = np.shape(t_min_all)[3] - 1\n",
    "t_thresh_c_fwe = scipy.stats.t.ppf(alpha_c_fwe/2, df, loc=0, scale=1)\n",
    "print t_thresh_c_fwe"
   ]
  },
  {
   "cell_type": "code",
   "execution_count": null,
   "metadata": {
    "collapsed": true
   },
   "outputs": [],
   "source": []
  },
  {
   "cell_type": "code",
   "execution_count": null,
   "metadata": {
    "collapsed": true
   },
   "outputs": [],
   "source": []
  },
  {
   "cell_type": "code",
   "execution_count": null,
   "metadata": {
    "collapsed": true
   },
   "outputs": [],
   "source": [
    "\n",
    "# Write out the nifti brain with values for visualization\n"
   ]
  },
  {
   "cell_type": "code",
   "execution_count": null,
   "metadata": {
    "collapsed": true
   },
   "outputs": [],
   "source": [
    "\n",
    "# Write out a new image using that numpy data and the original affine transformation matrix\n",
    "imgN = nib.Nifti1Image(t1samp, img.affine)"
   ]
  },
  {
   "cell_type": "code",
   "execution_count": null,
   "metadata": {
    "collapsed": true
   },
   "outputs": [],
   "source": [
    "nib.save(img, 'test3d.nii.gz')"
   ]
  },
  {
   "cell_type": "code",
   "execution_count": null,
   "metadata": {
    "collapsed": true
   },
   "outputs": [],
   "source": []
  },
  {
   "cell_type": "markdown",
   "metadata": {},
   "source": [
    "# Scratch Work"
   ]
  },
  {
   "cell_type": "code",
   "execution_count": null,
   "metadata": {
    "collapsed": false
   },
   "outputs": [],
   "source": [
    "idx = np.where(np.logical_not(np.isnan(p1samp)))\n",
    "\n",
    "print np.shape(idx)\n"
   ]
  },
  {
   "cell_type": "code",
   "execution_count": null,
   "metadata": {
    "collapsed": false
   },
   "outputs": [],
   "source": [
    "idx = np.asarray(idx)\n",
    "print np.shape(idx)"
   ]
  },
  {
   "cell_type": "code",
   "execution_count": null,
   "metadata": {
    "collapsed": false
   },
   "outputs": [],
   "source": [
    "idx[:,0]"
   ]
  },
  {
   "cell_type": "code",
   "execution_count": null,
   "metadata": {
    "collapsed": false
   },
   "outputs": [],
   "source": [
    "i = 2323\n",
    "\n",
    "print p1samp[idx[:,i][0], idx[:,i][1], idx[:,i][2]]\n",
    "print t1samp[idx[:,i][0], idx[:,i][1], idx[:,i][2]]"
   ]
  },
  {
   "cell_type": "code",
   "execution_count": null,
   "metadata": {
    "collapsed": false
   },
   "outputs": [],
   "source": [
    "df = np.shape(t_min_all)[3] - 1\n",
    "scipy.stats.t.ppf(0.630136084224/2, df, loc=0, scale=1)"
   ]
  },
  {
   "cell_type": "code",
   "execution_count": null,
   "metadata": {
    "collapsed": true
   },
   "outputs": [],
   "source": []
  }
 ],
 "metadata": {
  "kernelspec": {
   "display_name": "Python 2",
   "language": "python",
   "name": "python2"
  },
  "language_info": {
   "codemirror_mode": {
    "name": "ipython",
    "version": 2
   },
   "file_extension": ".py",
   "mimetype": "text/x-python",
   "name": "python",
   "nbconvert_exporter": "python",
   "pygments_lexer": "ipython2",
   "version": "2.7.12"
  }
 },
 "nbformat": 4,
 "nbformat_minor": 0
}
